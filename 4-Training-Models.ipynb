{
 "cells": [
  {
   "cell_type": "markdown",
   "metadata": {},
   "source": [
    "# Dude, Where's My House?\n",
    "## Part 4: Training Models\n",
    "## Authors: Aman Hafez, Kavan Pandya, Yan Nusinovich\n",
    "Notebook drafted by Yan Nusinovich"
   ]
  },
  {
   "cell_type": "markdown",
   "metadata": {},
   "source": [
    "## References"
   ]
  },
  {
   "cell_type": "markdown",
   "metadata": {},
   "source": [
    "- https://www.analyticsvidhya.com/blog/2020/02/learn-image-classification-cnn-convolutional-neural-networks-3-datasets/\n",
    "- https://medium.com/@vijayabhaskar96/tutorial-image-classification-with-keras-flow-from-directory-and-generators-95f75ebe5720\n",
    "- https://machinelearningmastery.com/how-to-load-large-datasets-from-directories-for-deep-learning-with-keras/"
   ]
  },
  {
   "cell_type": "markdown",
   "metadata": {},
   "source": [
    "## Code"
   ]
  },
  {
   "cell_type": "code",
   "execution_count": 41,
   "metadata": {},
   "outputs": [],
   "source": [
    "from keras.models import Sequential\n",
    "from keras.layers import Conv2D, MaxPool2D, Flatten, Dense, InputLayer, BatchNormalization, Dropout\n",
    "from keras.preprocessing.image import ImageDataGenerator\n",
    "from keras.applications import VGG16\n",
    "from keras.utils import to_categorical\n",
    "from keras.callbacks import EarlyStopping\n",
    "import numpy as np\n",
    "import pandas as pd\n",
    "import pickle"
   ]
  },
  {
   "cell_type": "markdown",
   "metadata": {},
   "source": [
    "## Model 1"
   ]
  },
  {
   "cell_type": "code",
   "execution_count": 2,
   "metadata": {},
   "outputs": [
    {
     "name": "stdout",
     "output_type": "stream",
     "text": [
      "Found 820 images belonging to 3 classes.\n",
      "Found 423 images belonging to 3 classes.\n"
     ]
    }
   ],
   "source": [
    "imagegen = ImageDataGenerator()\n",
    "train = imagegen.flow_from_directory(\"data/train/\", class_mode=\"categorical\", shuffle=True, batch_size=64, target_size=(256, 256))\n",
    "val = imagegen.flow_from_directory(\"data/validation/\", class_mode=\"categorical\", shuffle=True, batch_size=64, target_size=(256, 256))\n"
   ]
  },
  {
   "cell_type": "code",
   "execution_count": 11,
   "metadata": {},
   "outputs": [
    {
     "name": "stdout",
     "output_type": "stream",
     "text": [
      "Epoch 1/30\n",
      "13/13 [==============================] - 118s 9s/step - loss: 1.1750 - accuracy: 0.4646 - val_loss: 21.5300 - val_accuracy: 0.3712\n",
      "Epoch 2/30\n",
      "13/13 [==============================] - 115s 9s/step - loss: 0.7885 - accuracy: 0.6427 - val_loss: 5.9983 - val_accuracy: 0.3759\n",
      "Epoch 3/30\n",
      "13/13 [==============================] - 116s 9s/step - loss: 0.5304 - accuracy: 0.7890 - val_loss: 7.6906 - val_accuracy: 0.3783\n",
      "Epoch 4/30\n",
      "13/13 [==============================] - 114s 9s/step - loss: 0.3754 - accuracy: 0.8610 - val_loss: 4.3909 - val_accuracy: 0.4113\n",
      "Epoch 5/30\n",
      "13/13 [==============================] - 116s 9s/step - loss: 0.2088 - accuracy: 0.9402 - val_loss: 5.9223 - val_accuracy: 0.4374\n",
      "Epoch 6/30\n",
      "13/13 [==============================] - 115s 9s/step - loss: 0.1571 - accuracy: 0.9500 - val_loss: 4.5432 - val_accuracy: 0.4279\n",
      "Epoch 7/30\n",
      "13/13 [==============================] - 117s 9s/step - loss: 0.1036 - accuracy: 0.9744 - val_loss: 0.8198 - val_accuracy: 0.5863\n",
      "Epoch 8/30\n",
      "13/13 [==============================] - 112s 9s/step - loss: 0.0913 - accuracy: 0.9744 - val_loss: 1.2063 - val_accuracy: 0.6099\n",
      "Epoch 9/30\n",
      "13/13 [==============================] - 113s 9s/step - loss: 0.0661 - accuracy: 0.9829 - val_loss: 1.3452 - val_accuracy: 0.6383\n",
      "Epoch 10/30\n",
      "13/13 [==============================] - 473s 36s/step - loss: 0.0650 - accuracy: 0.9854 - val_loss: 1.1620 - val_accuracy: 0.6028\n",
      "Epoch 11/30\n",
      "13/13 [==============================] - 113s 9s/step - loss: 0.0533 - accuracy: 0.9902 - val_loss: 1.8687 - val_accuracy: 0.4870\n",
      "Epoch 12/30\n",
      "13/13 [==============================] - 112s 9s/step - loss: 0.0348 - accuracy: 0.9902 - val_loss: 1.1522 - val_accuracy: 0.6832\n",
      "Epoch 13/30\n",
      "13/13 [==============================] - 187s 14s/step - loss: 0.0416 - accuracy: 0.9878 - val_loss: 1.6210 - val_accuracy: 0.6974\n",
      "Epoch 14/30\n",
      "13/13 [==============================] - 111s 9s/step - loss: 0.0437 - accuracy: 0.9890 - val_loss: 1.3794 - val_accuracy: 0.6265\n",
      "Epoch 15/30\n",
      "13/13 [==============================] - 113s 9s/step - loss: 0.0370 - accuracy: 0.9915 - val_loss: 1.6962 - val_accuracy: 0.6217\n",
      "Epoch 16/30\n",
      "13/13 [==============================] - 115s 9s/step - loss: 0.0378 - accuracy: 0.9902 - val_loss: 2.2472 - val_accuracy: 0.5532\n",
      "Epoch 17/30\n",
      "13/13 [==============================] - 114s 9s/step - loss: 0.0256 - accuracy: 0.9939 - val_loss: 1.5961 - val_accuracy: 0.6809\n",
      "Epoch 18/30\n",
      "13/13 [==============================] - 115s 9s/step - loss: 0.0374 - accuracy: 0.9939 - val_loss: 1.2256 - val_accuracy: 0.6643\n",
      "Epoch 19/30\n",
      "13/13 [==============================] - 118s 9s/step - loss: 0.0378 - accuracy: 0.9963 - val_loss: 1.6936 - val_accuracy: 0.5981\n",
      "Epoch 20/30\n",
      "13/13 [==============================] - 120s 9s/step - loss: 0.0300 - accuracy: 0.9939 - val_loss: 2.4780 - val_accuracy: 0.5839\n",
      "Epoch 21/30\n",
      "13/13 [==============================] - 113s 9s/step - loss: 0.0156 - accuracy: 0.9939 - val_loss: 1.3200 - val_accuracy: 0.6809\n",
      "Epoch 22/30\n",
      "13/13 [==============================] - 114s 9s/step - loss: 0.0110 - accuracy: 0.9976 - val_loss: 1.2471 - val_accuracy: 0.6761\n",
      "Epoch 23/30\n",
      "13/13 [==============================] - 111s 9s/step - loss: 0.0146 - accuracy: 0.9927 - val_loss: 1.3160 - val_accuracy: 0.6099\n",
      "Epoch 24/30\n",
      "13/13 [==============================] - 112s 9s/step - loss: 0.0177 - accuracy: 0.9963 - val_loss: 1.4544 - val_accuracy: 0.6052\n",
      "Epoch 25/30\n",
      "13/13 [==============================] - 111s 9s/step - loss: 0.0201 - accuracy: 0.9951 - val_loss: 0.7935 - val_accuracy: 0.6903\n",
      "Epoch 26/30\n",
      "13/13 [==============================] - 111s 9s/step - loss: 0.0245 - accuracy: 0.9939 - val_loss: 2.0695 - val_accuracy: 0.6927\n",
      "Epoch 27/30\n",
      "13/13 [==============================] - 111s 9s/step - loss: 0.0095 - accuracy: 0.9988 - val_loss: 1.3114 - val_accuracy: 0.6809\n",
      "Epoch 28/30\n",
      "13/13 [==============================] - 243s 19s/step - loss: 0.0084 - accuracy: 0.9988 - val_loss: 1.6790 - val_accuracy: 0.7021\n",
      "Epoch 29/30\n",
      "13/13 [==============================] - 118s 9s/step - loss: 0.0063 - accuracy: 0.9988 - val_loss: 2.4943 - val_accuracy: 0.6454\n",
      "Epoch 30/30\n",
      "13/13 [==============================] - 117s 9s/step - loss: 0.0043 - accuracy: 0.9988 - val_loss: 1.4366 - val_accuracy: 0.6147\n"
     ]
    },
    {
     "data": {
      "text/plain": [
       "<keras.callbacks.callbacks.History at 0x65a74bfd0>"
      ]
     },
     "execution_count": 11,
     "metadata": {},
     "output_type": "execute_result"
    }
   ],
   "source": [
    "model = Sequential()\n",
    "model.add(InputLayer(input_shape=(256, 256, 3)))\n",
    "\n",
    "model.add(Conv2D(25, (5, 5), activation='relu', strides=(1, 1), padding='same')) # add batch size and ES\n",
    "model.add(MaxPool2D(pool_size=(2, 2), padding='same'))\n",
    "model.add(Conv2D(50, (5, 5), activation='relu', strides=(2, 2), padding='same'))\n",
    "model.add(MaxPool2D(pool_size=(2, 2), padding='same'))\n",
    "model.add(BatchNormalization())\n",
    "model.add(Conv2D(70, (3, 3), activation='relu', strides=(2, 2), padding='same'))\n",
    "model.add(MaxPool2D(pool_size=(2, 2), padding='valid'))\n",
    "model.add(BatchNormalization())\n",
    "model.add(Flatten())\n",
    "model.add(Dense(units=100, activation='relu'))\n",
    "model.add(Dense(units=100, activation='relu'))\n",
    "model.add(Dropout(0.25))\n",
    "model.add(Dense(units=3, activation='softmax'))\n",
    "\n",
    "model.compile(loss='categorical_crossentropy', optimizer=\"adam\", metrics=['accuracy'])\n",
    "model.fit_generator(train, epochs=30, validation_data=val)"
   ]
  },
  {
   "cell_type": "markdown",
   "metadata": {},
   "source": [
    "## Model 2"
   ]
  },
  {
   "cell_type": "code",
   "execution_count": null,
   "metadata": {},
   "outputs": [],
   "source": [
    "imagegen = ImageDataGenerator()\n",
    "train = imagegen.flow_from_directory(\"data/train/\", class_mode=\"categorical\", shuffle=True, batch_size=64, target_size=(256, 256))\n",
    "val = imagegen.flow_from_directory(\"data/validation/\", class_mode=\"categorical\", shuffle=True, batch_size=64, target_size=(256, 256))\n"
   ]
  },
  {
   "cell_type": "code",
   "execution_count": 3,
   "metadata": {},
   "outputs": [
    {
     "name": "stdout",
     "output_type": "stream",
     "text": [
      "Model: \"vgg16\"\n",
      "_________________________________________________________________\n",
      "Layer (type)                 Output Shape              Param #   \n",
      "=================================================================\n",
      "input_1 (InputLayer)         (None, None, None, 3)     0         \n",
      "_________________________________________________________________\n",
      "block1_conv1 (Conv2D)        (None, None, None, 64)    1792      \n",
      "_________________________________________________________________\n",
      "block1_conv2 (Conv2D)        (None, None, None, 64)    36928     \n",
      "_________________________________________________________________\n",
      "block1_pool (MaxPooling2D)   (None, None, None, 64)    0         \n",
      "_________________________________________________________________\n",
      "block2_conv1 (Conv2D)        (None, None, None, 128)   73856     \n",
      "_________________________________________________________________\n",
      "block2_conv2 (Conv2D)        (None, None, None, 128)   147584    \n",
      "_________________________________________________________________\n",
      "block2_pool (MaxPooling2D)   (None, None, None, 128)   0         \n",
      "_________________________________________________________________\n",
      "block3_conv1 (Conv2D)        (None, None, None, 256)   295168    \n",
      "_________________________________________________________________\n",
      "block3_conv2 (Conv2D)        (None, None, None, 256)   590080    \n",
      "_________________________________________________________________\n",
      "block3_conv3 (Conv2D)        (None, None, None, 256)   590080    \n",
      "_________________________________________________________________\n",
      "block3_pool (MaxPooling2D)   (None, None, None, 256)   0         \n",
      "_________________________________________________________________\n",
      "block4_conv1 (Conv2D)        (None, None, None, 512)   1180160   \n",
      "_________________________________________________________________\n",
      "block4_conv2 (Conv2D)        (None, None, None, 512)   2359808   \n",
      "_________________________________________________________________\n",
      "block4_conv3 (Conv2D)        (None, None, None, 512)   2359808   \n",
      "_________________________________________________________________\n",
      "block4_pool (MaxPooling2D)   (None, None, None, 512)   0         \n",
      "_________________________________________________________________\n",
      "block5_conv1 (Conv2D)        (None, None, None, 512)   2359808   \n",
      "_________________________________________________________________\n",
      "block5_conv2 (Conv2D)        (None, None, None, 512)   2359808   \n",
      "_________________________________________________________________\n",
      "block5_conv3 (Conv2D)        (None, None, None, 512)   2359808   \n",
      "_________________________________________________________________\n",
      "block5_pool (MaxPooling2D)   (None, None, None, 512)   0         \n",
      "=================================================================\n",
      "Total params: 14,714,688\n",
      "Trainable params: 14,714,688\n",
      "Non-trainable params: 0\n",
      "_________________________________________________________________\n"
     ]
    }
   ],
   "source": [
    "pretrained_model = VGG16(include_top=False, weights='imagenet')\n",
    "pretrained_model.summary()"
   ]
  },
  {
   "cell_type": "code",
   "execution_count": 4,
   "metadata": {},
   "outputs": [],
   "source": [
    "vgg_features_train = pretrained_model.predict(train)\n",
    "vgg_features_val = pretrained_model.predict(val)"
   ]
  },
  {
   "cell_type": "code",
   "execution_count": 5,
   "metadata": {},
   "outputs": [],
   "source": [
    "train_target = to_categorical(train.labels)\n",
    "val_target = to_categorical(val.labels)"
   ]
  },
  {
   "cell_type": "code",
   "execution_count": 12,
   "metadata": {},
   "outputs": [
    {
     "name": "stdout",
     "output_type": "stream",
     "text": [
      "Model: \"sequential_7\"\n",
      "_________________________________________________________________\n",
      "Layer (type)                 Output Shape              Param #   \n",
      "=================================================================\n",
      "conv2d_7 (Conv2D)            (None, 8, 8, 25)          320025    \n",
      "_________________________________________________________________\n",
      "max_pooling2d_3 (MaxPooling2 (None, 4, 4, 25)          0         \n",
      "_________________________________________________________________\n",
      "conv2d_8 (Conv2D)            (None, 2, 2, 50)          31300     \n",
      "_________________________________________________________________\n",
      "max_pooling2d_4 (MaxPooling2 (None, 1, 1, 50)          0         \n",
      "_________________________________________________________________\n",
      "flatten_6 (Flatten)          (None, 50)                0         \n",
      "_________________________________________________________________\n",
      "dense_5 (Dense)              (None, 100)               5100      \n",
      "_________________________________________________________________\n",
      "dropout_3 (Dropout)          (None, 100)               0         \n",
      "_________________________________________________________________\n",
      "batch_normalization_3 (Batch (None, 100)               400       \n",
      "_________________________________________________________________\n",
      "dense_6 (Dense)              (None, 3)                 303       \n",
      "=================================================================\n",
      "Total params: 357,128\n",
      "Trainable params: 356,928\n",
      "Non-trainable params: 200\n",
      "_________________________________________________________________\n"
     ]
    }
   ],
   "source": [
    "model2 = Sequential()\n",
    "\n",
    "model2.add(Conv2D(25, (5, 5), activation='relu', strides=(1, 1), padding='same', input_shape=(8,8,512)))\n",
    "model2.add(MaxPool2D(pool_size=(2, 2), padding='same'))\n",
    "model2.add(Conv2D(50, (5, 5), activation='relu', strides=(2, 2), padding='same'))\n",
    "model2.add(MaxPool2D(pool_size=(2, 2), padding='same'))\n",
    "\n",
    "model2.add(Flatten())\n",
    "model2.add(Dense(100, activation='relu'))\n",
    "model2.add(Dropout(0.5))\n",
    "model2.add(BatchNormalization())\n",
    "model2.add(Dense(3, activation='softmax'))\n",
    "\n",
    "model2.compile(optimizer='adam', metrics=['accuracy'], loss='categorical_crossentropy')\n",
    "\n",
    "model2.summary()"
   ]
  },
  {
   "cell_type": "code",
   "execution_count": 13,
   "metadata": {},
   "outputs": [
    {
     "name": "stdout",
     "output_type": "stream",
     "text": [
      "Train on 820 samples, validate on 423 samples\n",
      "Epoch 1/50\n",
      "820/820 [==============================] - 4s 4ms/step - loss: 1.5127 - accuracy: 0.3061 - val_loss: 5.2792 - val_accuracy: 0.3806\n",
      "Epoch 2/50\n",
      "820/820 [==============================] - 2s 2ms/step - loss: 1.1799 - accuracy: 0.4524 - val_loss: 3.5184 - val_accuracy: 0.3712\n",
      "Epoch 3/50\n",
      "820/820 [==============================] - 2s 2ms/step - loss: 1.1738 - accuracy: 0.4256 - val_loss: 2.1769 - val_accuracy: 0.3688\n",
      "Epoch 4/50\n",
      "820/820 [==============================] - 2s 2ms/step - loss: 1.1232 - accuracy: 0.4610 - val_loss: 1.4598 - val_accuracy: 0.3121\n",
      "Epoch 5/50\n",
      "820/820 [==============================] - 2s 2ms/step - loss: 1.0413 - accuracy: 0.4988 - val_loss: 1.3887 - val_accuracy: 0.3121\n",
      "Epoch 6/50\n",
      "820/820 [==============================] - 2s 2ms/step - loss: 0.9805 - accuracy: 0.5183 - val_loss: 1.3077 - val_accuracy: 0.3357\n",
      "Epoch 7/50\n",
      "820/820 [==============================] - 2s 2ms/step - loss: 0.8441 - accuracy: 0.6061 - val_loss: 1.4567 - val_accuracy: 0.3215\n",
      "Epoch 8/50\n",
      "820/820 [==============================] - 2s 2ms/step - loss: 0.8442 - accuracy: 0.5878 - val_loss: 1.3442 - val_accuracy: 0.3215\n",
      "Epoch 9/50\n",
      "820/820 [==============================] - 2s 2ms/step - loss: 0.7836 - accuracy: 0.6671 - val_loss: 1.3459 - val_accuracy: 0.3499\n",
      "Epoch 10/50\n",
      "820/820 [==============================] - 2s 2ms/step - loss: 0.7178 - accuracy: 0.6854 - val_loss: 1.4096 - val_accuracy: 0.3357\n",
      "Epoch 11/50\n",
      "820/820 [==============================] - 2s 2ms/step - loss: 0.6020 - accuracy: 0.7573 - val_loss: 1.5144 - val_accuracy: 0.3191\n",
      "Epoch 12/50\n",
      "820/820 [==============================] - 2s 2ms/step - loss: 0.4817 - accuracy: 0.8366 - val_loss: 1.4709 - val_accuracy: 0.3262\n",
      "Epoch 13/50\n",
      "820/820 [==============================] - 2s 2ms/step - loss: 0.4023 - accuracy: 0.8902 - val_loss: 1.4859 - val_accuracy: 0.3310\n",
      "Epoch 14/50\n",
      "820/820 [==============================] - 2s 2ms/step - loss: 0.3441 - accuracy: 0.9146 - val_loss: 1.5459 - val_accuracy: 0.2861\n",
      "Epoch 15/50\n",
      "820/820 [==============================] - 2s 2ms/step - loss: 0.2494 - accuracy: 0.9537 - val_loss: 1.5714 - val_accuracy: 0.3168\n",
      "Epoch 16/50\n",
      "820/820 [==============================] - 2s 2ms/step - loss: 0.2067 - accuracy: 0.9695 - val_loss: 1.6602 - val_accuracy: 0.3026\n",
      "Epoch 17/50\n",
      "820/820 [==============================] - 2s 2ms/step - loss: 0.1656 - accuracy: 0.9817 - val_loss: 1.7003 - val_accuracy: 0.3002\n",
      "Epoch 18/50\n",
      "820/820 [==============================] - 2s 2ms/step - loss: 0.1310 - accuracy: 0.9939 - val_loss: 1.7601 - val_accuracy: 0.3050\n",
      "Epoch 19/50\n",
      "820/820 [==============================] - 2s 2ms/step - loss: 0.1158 - accuracy: 0.9927 - val_loss: 1.8397 - val_accuracy: 0.2742\n",
      "Epoch 20/50\n",
      "820/820 [==============================] - 2s 2ms/step - loss: 0.0979 - accuracy: 0.9963 - val_loss: 1.8485 - val_accuracy: 0.2908\n",
      "Epoch 21/50\n",
      "820/820 [==============================] - 2s 2ms/step - loss: 0.0933 - accuracy: 0.9915 - val_loss: 1.9382 - val_accuracy: 0.3121\n",
      "Epoch 22/50\n",
      "820/820 [==============================] - 2s 2ms/step - loss: 0.0920 - accuracy: 0.9902 - val_loss: 2.0342 - val_accuracy: 0.2979\n",
      "Epoch 23/50\n",
      "820/820 [==============================] - 2s 2ms/step - loss: 0.0762 - accuracy: 0.9915 - val_loss: 2.0295 - val_accuracy: 0.2979\n",
      "Epoch 24/50\n",
      "820/820 [==============================] - 2s 2ms/step - loss: 0.0654 - accuracy: 0.9915 - val_loss: 2.0125 - val_accuracy: 0.3026\n",
      "Epoch 25/50\n",
      "820/820 [==============================] - 2s 2ms/step - loss: 0.0554 - accuracy: 0.9963 - val_loss: 1.9926 - val_accuracy: 0.3002\n",
      "Epoch 26/50\n",
      "820/820 [==============================] - 2s 2ms/step - loss: 0.0513 - accuracy: 0.9963 - val_loss: 2.0577 - val_accuracy: 0.2955\n",
      "Epoch 27/50\n",
      "820/820 [==============================] - 2s 3ms/step - loss: 0.0442 - accuracy: 0.9963 - val_loss: 2.1006 - val_accuracy: 0.3026\n",
      "Epoch 28/50\n",
      "820/820 [==============================] - 2s 3ms/step - loss: 0.0392 - accuracy: 1.0000 - val_loss: 2.1411 - val_accuracy: 0.3050\n",
      "Epoch 29/50\n",
      "820/820 [==============================] - 2s 3ms/step - loss: 0.0358 - accuracy: 0.9988 - val_loss: 2.1646 - val_accuracy: 0.2884\n",
      "Epoch 30/50\n",
      "820/820 [==============================] - 2s 3ms/step - loss: 0.0342 - accuracy: 0.9988 - val_loss: 2.2010 - val_accuracy: 0.2884\n",
      "Epoch 31/50\n",
      "820/820 [==============================] - 2s 3ms/step - loss: 0.0288 - accuracy: 0.9988 - val_loss: 2.2754 - val_accuracy: 0.3002\n",
      "Epoch 32/50\n",
      "820/820 [==============================] - 2s 3ms/step - loss: 0.0304 - accuracy: 0.9988 - val_loss: 2.2596 - val_accuracy: 0.2884\n",
      "Epoch 33/50\n",
      "820/820 [==============================] - 2s 3ms/step - loss: 0.0263 - accuracy: 1.0000 - val_loss: 2.2713 - val_accuracy: 0.2955\n",
      "Epoch 34/50\n",
      "820/820 [==============================] - 2s 3ms/step - loss: 0.0225 - accuracy: 0.9988 - val_loss: 2.3354 - val_accuracy: 0.2884\n",
      "Epoch 35/50\n",
      "820/820 [==============================] - 2s 3ms/step - loss: 0.0206 - accuracy: 1.0000 - val_loss: 2.3997 - val_accuracy: 0.3050\n",
      "Epoch 36/50\n",
      "820/820 [==============================] - 2s 3ms/step - loss: 0.0210 - accuracy: 1.0000 - val_loss: 2.4156 - val_accuracy: 0.3002\n",
      "Epoch 37/50\n",
      "820/820 [==============================] - 2s 3ms/step - loss: 0.0245 - accuracy: 0.9976 - val_loss: 2.4062 - val_accuracy: 0.2979\n",
      "Epoch 38/50\n",
      "820/820 [==============================] - 2s 3ms/step - loss: 0.0177 - accuracy: 1.0000 - val_loss: 2.4265 - val_accuracy: 0.3026\n",
      "Epoch 39/50\n",
      "820/820 [==============================] - 2s 3ms/step - loss: 0.0154 - accuracy: 1.0000 - val_loss: 2.4376 - val_accuracy: 0.3097\n",
      "Epoch 40/50\n",
      "820/820 [==============================] - 2s 3ms/step - loss: 0.0165 - accuracy: 0.9988 - val_loss: 2.4430 - val_accuracy: 0.2979\n",
      "Epoch 41/50\n",
      "820/820 [==============================] - 2s 3ms/step - loss: 0.0153 - accuracy: 1.0000 - val_loss: 2.4629 - val_accuracy: 0.3026\n",
      "Epoch 42/50\n",
      "820/820 [==============================] - 2s 3ms/step - loss: 0.0166 - accuracy: 1.0000 - val_loss: 2.4690 - val_accuracy: 0.3097\n",
      "Epoch 43/50\n",
      "820/820 [==============================] - 2s 3ms/step - loss: 0.0146 - accuracy: 1.0000 - val_loss: 2.5001 - val_accuracy: 0.2908\n",
      "Epoch 44/50\n",
      "820/820 [==============================] - 2s 3ms/step - loss: 0.0119 - accuracy: 1.0000 - val_loss: 2.5270 - val_accuracy: 0.2955\n",
      "Epoch 45/50\n",
      "820/820 [==============================] - 2s 3ms/step - loss: 0.0114 - accuracy: 1.0000 - val_loss: 2.5717 - val_accuracy: 0.2979\n",
      "Epoch 46/50\n",
      "820/820 [==============================] - 2s 3ms/step - loss: 0.0123 - accuracy: 1.0000 - val_loss: 2.6089 - val_accuracy: 0.3026\n",
      "Epoch 47/50\n",
      "820/820 [==============================] - 2s 3ms/step - loss: 0.0110 - accuracy: 1.0000 - val_loss: 2.6298 - val_accuracy: 0.3050\n",
      "Epoch 48/50\n",
      "820/820 [==============================] - 2s 3ms/step - loss: 0.0114 - accuracy: 1.0000 - val_loss: 2.6342 - val_accuracy: 0.3050\n",
      "Epoch 49/50\n",
      "820/820 [==============================] - 2s 3ms/step - loss: 0.0106 - accuracy: 0.9988 - val_loss: 2.6552 - val_accuracy: 0.3097\n",
      "Epoch 50/50\n",
      "820/820 [==============================] - 2s 3ms/step - loss: 0.0149 - accuracy: 0.9988 - val_loss: 2.6910 - val_accuracy: 0.3002\n"
     ]
    },
    {
     "data": {
      "text/plain": [
       "<keras.callbacks.callbacks.History at 0x64a149ad0>"
      ]
     },
     "execution_count": 13,
     "metadata": {},
     "output_type": "execute_result"
    }
   ],
   "source": [
    "model2.fit(vgg_features_train, train_target, epochs=50, batch_size=128, validation_data=(vgg_features_val, val_target))\n"
   ]
  },
  {
   "cell_type": "markdown",
   "metadata": {},
   "source": [
    "## Model 3"
   ]
  },
  {
   "cell_type": "code",
   "execution_count": 23,
   "metadata": {},
   "outputs": [
    {
     "name": "stdout",
     "output_type": "stream",
     "text": [
      "Found 730 images belonging to 3 classes.\n",
      "Found 365 images belonging to 3 classes.\n"
     ]
    }
   ],
   "source": [
    "imagegen = ImageDataGenerator()\n",
    "train = imagegen.flow_from_directory(\"data/train/\", class_mode=\"categorical\", shuffle=True, batch_size=32, target_size=(256, 256))\n",
    "val = imagegen.flow_from_directory(\"data/validation/\", class_mode=\"categorical\", shuffle=True, batch_size=32, target_size=(256, 256))\n"
   ]
  },
  {
   "cell_type": "code",
   "execution_count": 24,
   "metadata": {},
   "outputs": [
    {
     "name": "stdout",
     "output_type": "stream",
     "text": [
      "Epoch 1/30\n",
      "23/23 [==============================] - 112s 5s/step - loss: 1.2770 - accuracy: 0.4411 - val_loss: 8.9282 - val_accuracy: 0.3945\n",
      "Epoch 2/30\n",
      "23/23 [==============================] - 109s 5s/step - loss: 0.9570 - accuracy: 0.5726 - val_loss: 2.8163 - val_accuracy: 0.3781\n",
      "Epoch 3/30\n",
      "23/23 [==============================] - 105s 5s/step - loss: 0.7846 - accuracy: 0.6534 - val_loss: 1.9285 - val_accuracy: 0.4986\n",
      "Epoch 4/30\n",
      "23/23 [==============================] - 103s 4s/step - loss: 0.5863 - accuracy: 0.7658 - val_loss: 1.6091 - val_accuracy: 0.5918\n",
      "Epoch 5/30\n",
      "23/23 [==============================] - 103s 4s/step - loss: 0.4922 - accuracy: 0.7986 - val_loss: 1.2271 - val_accuracy: 0.5479\n",
      "Epoch 6/30\n",
      "23/23 [==============================] - 104s 5s/step - loss: 0.3784 - accuracy: 0.8507 - val_loss: 0.9209 - val_accuracy: 0.5479\n",
      "Epoch 7/30\n",
      "23/23 [==============================] - 103s 4s/step - loss: 0.3023 - accuracy: 0.8863 - val_loss: 1.5286 - val_accuracy: 0.5260\n",
      "Epoch 8/30\n",
      "23/23 [==============================] - 103s 4s/step - loss: 0.2225 - accuracy: 0.9192 - val_loss: 2.4294 - val_accuracy: 0.6658\n",
      "Epoch 9/30\n",
      "23/23 [==============================] - 104s 5s/step - loss: 0.1900 - accuracy: 0.9356 - val_loss: 1.8263 - val_accuracy: 0.6548\n",
      "Epoch 10/30\n",
      "23/23 [==============================] - 103s 4s/step - loss: 0.1721 - accuracy: 0.9411 - val_loss: 1.3147 - val_accuracy: 0.5616\n",
      "Epoch 11/30\n",
      "23/23 [==============================] - 103s 4s/step - loss: 0.1522 - accuracy: 0.9479 - val_loss: 2.6446 - val_accuracy: 0.6658\n",
      "Epoch 12/30\n",
      "23/23 [==============================] - 103s 4s/step - loss: 0.1649 - accuracy: 0.9616 - val_loss: 4.4314 - val_accuracy: 0.3397\n",
      "Epoch 13/30\n",
      "23/23 [==============================] - 103s 4s/step - loss: 0.1449 - accuracy: 0.9630 - val_loss: 1.8400 - val_accuracy: 0.6822\n",
      "Epoch 14/30\n",
      "23/23 [==============================] - 103s 4s/step - loss: 0.1013 - accuracy: 0.9726 - val_loss: 1.4598 - val_accuracy: 0.5288\n",
      "Epoch 15/30\n",
      "23/23 [==============================] - 103s 4s/step - loss: 0.0857 - accuracy: 0.9671 - val_loss: 0.9177 - val_accuracy: 0.7096\n",
      "Epoch 16/30\n",
      "23/23 [==============================] - 103s 4s/step - loss: 0.0863 - accuracy: 0.9767 - val_loss: 2.1018 - val_accuracy: 0.5534\n",
      "Epoch 17/30\n",
      "23/23 [==============================] - 103s 4s/step - loss: 0.0913 - accuracy: 0.9726 - val_loss: 1.4841 - val_accuracy: 0.6767\n",
      "Epoch 18/30\n",
      "23/23 [==============================] - 103s 4s/step - loss: 0.0975 - accuracy: 0.9822 - val_loss: 1.0136 - val_accuracy: 0.6986\n",
      "Epoch 19/30\n",
      "23/23 [==============================] - 107s 5s/step - loss: 0.0672 - accuracy: 0.9767 - val_loss: 1.3376 - val_accuracy: 0.6438\n",
      "Epoch 20/30\n",
      "23/23 [==============================] - 107s 5s/step - loss: 0.0644 - accuracy: 0.9849 - val_loss: 1.7870 - val_accuracy: 0.6630\n",
      "Epoch 21/30\n",
      "23/23 [==============================] - 107s 5s/step - loss: 0.0513 - accuracy: 0.9836 - val_loss: 2.3494 - val_accuracy: 0.6767\n",
      "Epoch 22/30\n",
      "23/23 [==============================] - 102s 4s/step - loss: 0.0773 - accuracy: 0.9822 - val_loss: 1.5420 - val_accuracy: 0.6877\n",
      "Epoch 23/30\n",
      "23/23 [==============================] - 103s 4s/step - loss: 0.0845 - accuracy: 0.9726 - val_loss: 1.3968 - val_accuracy: 0.6904\n",
      "Epoch 24/30\n",
      "23/23 [==============================] - 110s 5s/step - loss: 0.1124 - accuracy: 0.9630 - val_loss: 4.5798 - val_accuracy: 0.6356\n",
      "Epoch 25/30\n",
      "23/23 [==============================] - 104s 5s/step - loss: 0.1220 - accuracy: 0.9575 - val_loss: 4.4311 - val_accuracy: 0.5507\n"
     ]
    },
    {
     "data": {
      "text/plain": [
       "<keras.callbacks.callbacks.History at 0x653247a10>"
      ]
     },
     "execution_count": 24,
     "metadata": {},
     "output_type": "execute_result"
    }
   ],
   "source": [
    "model3 = Sequential()\n",
    "model3.add(InputLayer(input_shape=(256, 256, 3)))\n",
    "\n",
    "model3.add(Conv2D(25, (5, 5), activation='relu', strides=(1, 1), padding='same')) # add batch size and ES\n",
    "model3.add(MaxPool2D(pool_size=(2, 2), padding='same'))\n",
    "model3.add(Conv2D(50, (5, 5), activation='relu', strides=(2, 2), padding='same'))\n",
    "model3.add(MaxPool2D(pool_size=(2, 2), padding='same'))\n",
    "model3.add(BatchNormalization())\n",
    "model3.add(Conv2D(70, (3, 3), activation='relu', strides=(2, 2), padding='same'))\n",
    "model3.add(MaxPool2D(pool_size=(2, 2), padding='valid'))\n",
    "model3.add(BatchNormalization())\n",
    "model3.add(Flatten())\n",
    "model3.add(Dense(units=100, activation='relu'))\n",
    "model3.add(Dropout(0.25))\n",
    "model3.add(Dense(units=100, activation='relu'))\n",
    "model3.add(Dropout(0.25))\n",
    "model3.add(Dense(units=3, activation='softmax'))\n",
    "\n",
    "model3.compile(loss='categorical_crossentropy', optimizer=\"adam\", metrics=['accuracy'])\n",
    "\n",
    "early_stop = EarlyStopping(monitor = \"val_accuracy\", \n",
    "                           patience = 10,\n",
    "                           min_delta = 0,\n",
    "                           restore_best_weights = True)\n",
    "\n",
    "model3.fit_generator(train, epochs=30, validation_data=val, callbacks = [early_stop])"
   ]
  },
  {
   "cell_type": "markdown",
   "metadata": {},
   "source": [
    "**We kept Model 3 because it gave us the best results.**"
   ]
  },
  {
   "cell_type": "markdown",
   "metadata": {},
   "source": [
    "## Running Model 3 on Test Data"
   ]
  },
  {
   "cell_type": "code",
   "execution_count": 25,
   "metadata": {},
   "outputs": [
    {
     "name": "stdout",
     "output_type": "stream",
     "text": [
      "Found 8 images belonging to 1 classes.\n",
      "8/8 [==============================] - 1s 178ms/step\n"
     ]
    }
   ],
   "source": [
    "test = imagegen.flow_from_directory(\"data/test/\", class_mode=None, shuffle=False, batch_size=1, target_size=(256, 256))\n",
    "\n",
    "test.reset()\n",
    "pred = model3.predict_generator(test, verbose=1)"
   ]
  },
  {
   "cell_type": "code",
   "execution_count": 26,
   "metadata": {},
   "outputs": [],
   "source": [
    "predicted_class_indices=np.argmax(pred,axis=1)\n"
   ]
  },
  {
   "cell_type": "code",
   "execution_count": 36,
   "metadata": {},
   "outputs": [
    {
     "data": {
      "text/plain": [
       "{'Damaged': 0, 'Destroyed': 1, 'Good': 2}"
      ]
     },
     "execution_count": 36,
     "metadata": {},
     "output_type": "execute_result"
    }
   ],
   "source": [
    "train.class_indices"
   ]
  },
  {
   "cell_type": "code",
   "execution_count": 27,
   "metadata": {},
   "outputs": [],
   "source": [
    "labels = (train.class_indices)\n",
    "labels = dict((v,k) for k,v in labels.items())\n",
    "predictions = [labels[k] for k in predicted_class_indices]"
   ]
  },
  {
   "cell_type": "code",
   "execution_count": 35,
   "metadata": {},
   "outputs": [],
   "source": [
    "filenames = test.filenames\n",
    "results = pd.DataFrame({\"Filename\": filenames,\n",
    "                        \"Predictions\": predictions})\n",
    "results.to_csv(\"test_results.csv\", index = False)"
   ]
  },
  {
   "cell_type": "markdown",
   "metadata": {},
   "source": [
    "## Save Model 3 and Train Indices"
   ]
  },
  {
   "cell_type": "markdown",
   "metadata": {},
   "source": [
    "Reference for saving train indices:<br>\n",
    "https://stackoverflow.com/questions/19201290/how-to-save-a-dictionary-to-a-file/32216025"
   ]
  },
  {
   "cell_type": "code",
   "execution_count": 42,
   "metadata": {},
   "outputs": [],
   "source": [
    "def save_obj(obj, name):\n",
    "    with open('model/'+ name + '.pkl', 'wb') as f:\n",
    "        pickle.dump(obj, f, pickle.HIGHEST_PROTOCOL)\n",
    "\n",
    "save_obj(train.class_indices, \"train_class_indices\")"
   ]
  },
  {
   "cell_type": "code",
   "execution_count": 33,
   "metadata": {},
   "outputs": [],
   "source": [
    "model3.save(\"./saved_model/final_model.h5\")"
   ]
  },
  {
   "cell_type": "code",
   "execution_count": null,
   "metadata": {},
   "outputs": [],
   "source": []
  }
 ],
 "metadata": {
  "kernelspec": {
   "display_name": "Python 3",
   "language": "python",
   "name": "python3"
  },
  "language_info": {
   "codemirror_mode": {
    "name": "ipython",
    "version": 3
   },
   "file_extension": ".py",
   "mimetype": "text/x-python",
   "name": "python",
   "nbconvert_exporter": "python",
   "pygments_lexer": "ipython3",
   "version": "3.7.6"
  }
 },
 "nbformat": 4,
 "nbformat_minor": 4
}
