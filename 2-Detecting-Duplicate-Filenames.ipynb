{
 "cells": [
  {
   "cell_type": "markdown",
   "metadata": {},
   "source": [
    "# Dude, Where's My House?\n",
    "## Part 2: Detecting Duplicate Filenames\n",
    "## Authors: Aman Hafez, Kavan Pandya, Yan Nusinovich\n",
    "Notebook drafted by Yan Nusinovich"
   ]
  },
  {
   "cell_type": "markdown",
   "metadata": {},
   "source": [
    "## Check for Duplicate Filenames"
   ]
  },
  {
   "cell_type": "code",
   "execution_count": 5,
   "metadata": {},
   "outputs": [
    {
     "data": {
      "text/html": [
       "<div>\n",
       "<style scoped>\n",
       "    .dataframe tbody tr th:only-of-type {\n",
       "        vertical-align: middle;\n",
       "    }\n",
       "\n",
       "    .dataframe tbody tr th {\n",
       "        vertical-align: top;\n",
       "    }\n",
       "\n",
       "    .dataframe thead th {\n",
       "        text-align: right;\n",
       "    }\n",
       "</style>\n",
       "<table border=\"1\" class=\"dataframe\">\n",
       "  <thead>\n",
       "    <tr style=\"text-align: right;\">\n",
       "      <th></th>\n",
       "      <th>Folder</th>\n",
       "      <th>File</th>\n",
       "    </tr>\n",
       "  </thead>\n",
       "  <tbody>\n",
       "    <tr>\n",
       "      <th>0</th>\n",
       "      <td>Final_Damaged</td>\n",
       "      <td>012610cbd0.jpg</td>\n",
       "    </tr>\n",
       "    <tr>\n",
       "      <th>1</th>\n",
       "      <td>Final_Damaged</td>\n",
       "      <td>02150acc07.jpg</td>\n",
       "    </tr>\n",
       "    <tr>\n",
       "      <th>2</th>\n",
       "      <td>Final_Damaged</td>\n",
       "      <td>02329c2fe7.jpg</td>\n",
       "    </tr>\n",
       "    <tr>\n",
       "      <th>3</th>\n",
       "      <td>Final_Damaged</td>\n",
       "      <td>0284ac037b.jpg</td>\n",
       "    </tr>\n",
       "    <tr>\n",
       "      <th>4</th>\n",
       "      <td>Final_Damaged</td>\n",
       "      <td>02fdae6e00.jpg</td>\n",
       "    </tr>\n",
       "    <tr>\n",
       "      <th>...</th>\n",
       "      <td>...</td>\n",
       "      <td>...</td>\n",
       "    </tr>\n",
       "    <tr>\n",
       "      <th>1246</th>\n",
       "      <td>Test_Houses</td>\n",
       "      <td>IMG_20200504_185224.jpg</td>\n",
       "    </tr>\n",
       "    <tr>\n",
       "      <th>1247</th>\n",
       "      <td>Test_Houses</td>\n",
       "      <td>IMG_20200505_193529.jpg</td>\n",
       "    </tr>\n",
       "    <tr>\n",
       "      <th>1248</th>\n",
       "      <td>Test_Houses</td>\n",
       "      <td>IMG_20200505_193544.jpg</td>\n",
       "    </tr>\n",
       "    <tr>\n",
       "      <th>1249</th>\n",
       "      <td>Test_Houses</td>\n",
       "      <td>IMG_20200505_193554.jpg</td>\n",
       "    </tr>\n",
       "    <tr>\n",
       "      <th>1250</th>\n",
       "      <td>Test_Houses</td>\n",
       "      <td>IMG_20200505_193608.jpg</td>\n",
       "    </tr>\n",
       "  </tbody>\n",
       "</table>\n",
       "<p>1251 rows × 2 columns</p>\n",
       "</div>"
      ],
      "text/plain": [
       "             Folder                     File\n",
       "0     Final_Damaged           012610cbd0.jpg\n",
       "1     Final_Damaged           02150acc07.jpg\n",
       "2     Final_Damaged           02329c2fe7.jpg\n",
       "3     Final_Damaged           0284ac037b.jpg\n",
       "4     Final_Damaged           02fdae6e00.jpg\n",
       "...             ...                      ...\n",
       "1246    Test_Houses  IMG_20200504_185224.jpg\n",
       "1247    Test_Houses  IMG_20200505_193529.jpg\n",
       "1248    Test_Houses  IMG_20200505_193544.jpg\n",
       "1249    Test_Houses  IMG_20200505_193554.jpg\n",
       "1250    Test_Houses  IMG_20200505_193608.jpg\n",
       "\n",
       "[1251 rows x 2 columns]"
      ]
     },
     "execution_count": 5,
     "metadata": {},
     "output_type": "execute_result"
    }
   ],
   "source": [
    "import os\n",
    "import pandas as pd\n",
    "\n",
    "house_path = \"/Users/yannusinovich/Documents/GA-DSI-Tor/DSI-7-lessons-local/Project_5/data/Houses/\"\n",
    "\n",
    "data = []\n",
    "for folder in sorted(os.listdir(house_path)):\n",
    "    if folder != \".DS_Store\":\n",
    "        for file in sorted(os.listdir(house_path + folder)):\n",
    "                if file != \".DS_Store\":\n",
    "                    data.append((folder, file))\n",
    "\n",
    "df = pd.DataFrame(data, columns=['Folder', 'File'])\n",
    "df"
   ]
  },
  {
   "cell_type": "code",
   "execution_count": 6,
   "metadata": {},
   "outputs": [
    {
     "data": {
      "text/html": [
       "<div>\n",
       "<style scoped>\n",
       "    .dataframe tbody tr th:only-of-type {\n",
       "        vertical-align: middle;\n",
       "    }\n",
       "\n",
       "    .dataframe tbody tr th {\n",
       "        vertical-align: top;\n",
       "    }\n",
       "\n",
       "    .dataframe thead th {\n",
       "        text-align: right;\n",
       "    }\n",
       "</style>\n",
       "<table border=\"1\" class=\"dataframe\">\n",
       "  <thead>\n",
       "    <tr style=\"text-align: right;\">\n",
       "      <th></th>\n",
       "      <th>Folder</th>\n",
       "      <th>File</th>\n",
       "    </tr>\n",
       "  </thead>\n",
       "  <tbody>\n",
       "  </tbody>\n",
       "</table>\n",
       "</div>"
      ],
      "text/plain": [
       "Empty DataFrame\n",
       "Columns: [Folder, File]\n",
       "Index: []"
      ]
     },
     "execution_count": 6,
     "metadata": {},
     "output_type": "execute_result"
    }
   ],
   "source": [
    "df[df[[\"File\"]].duplicated(keep = False) == True]"
   ]
  },
  {
   "cell_type": "markdown",
   "metadata": {},
   "source": [
    "**All duplicate houses were in different folders, so they were removed individually.**"
   ]
  },
  {
   "cell_type": "markdown",
   "metadata": {},
   "source": [
    "## Check for Duplicate Image File Content"
   ]
  },
  {
   "cell_type": "markdown",
   "metadata": {},
   "source": [
    "Credit to:<br>\n",
    "https://stackoverflow.com/questions/748675/finding-duplicate-files-and-removing-them"
   ]
  },
  {
   "cell_type": "code",
   "execution_count": 9,
   "metadata": {},
   "outputs": [
    {
     "name": "stdout",
     "output_type": "stream",
     "text": [
      "Duplicate found: ./data/validation/.DS_Store and ./data/train/.DS_Store\n"
     ]
    }
   ],
   "source": [
    "%run -i 'Detecting-Duplicate-Files.py' \"./data\""
   ]
  }
 ],
 "metadata": {
  "kernelspec": {
   "display_name": "Python 3",
   "language": "python",
   "name": "python3"
  },
  "language_info": {
   "codemirror_mode": {
    "name": "ipython",
    "version": 3
   },
   "file_extension": ".py",
   "mimetype": "text/x-python",
   "name": "python",
   "nbconvert_exporter": "python",
   "pygments_lexer": "ipython3",
   "version": "3.7.6"
  }
 },
 "nbformat": 4,
 "nbformat_minor": 4
}
