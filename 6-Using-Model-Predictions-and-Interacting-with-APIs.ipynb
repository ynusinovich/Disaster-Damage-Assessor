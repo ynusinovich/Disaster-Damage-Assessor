{
 "cells": [
  {
   "cell_type": "markdown",
   "metadata": {
    "colab_type": "text",
    "id": "IwjYkIX8Sq8Q"
   },
   "source": [
    "# Dude, Where's My House?\n",
    "## Part 6: Using Model Predictions and Interacting with APIs\n",
    "## Authors: Aman Hafez, Kavan Pandya, Yan Nusinovich\n",
    "Notebook drafted by Kavan Pandya"
   ]
  },
  {
   "cell_type": "markdown",
   "metadata": {
    "colab_type": "text",
    "id": "rn7H6iq2Sq8S"
   },
   "source": [
    "### Imports"
   ]
  },
  {
   "cell_type": "code",
   "execution_count": 13,
   "metadata": {
    "colab": {},
    "colab_type": "code",
    "id": "oPi-yILsSq8T"
   },
   "outputs": [],
   "source": [
    "import os\n",
    "\n",
    "# Import google_streetview for the api module\n",
    "import googlemaps\n",
    "import google_streetview.api\n",
    "import google_streetview\n",
    "\n",
    "import json\n",
    "\n",
    "# Importing for reversing to the address\n",
    "from pygeocoder import Geocoder\n",
    "\n",
    "# importing zillow \n",
    "from pyzillow.pyzillow import ZillowWrapper, GetDeepSearchResults, GetUpdatedPropertyDetails\n",
    "\n",
    "# import image meta data extractors\n",
    "from PIL import Image\n",
    "from PIL.ExifTags import TAGS, GPSTAGS"
   ]
  },
  {
   "cell_type": "code",
   "execution_count": 14,
   "metadata": {},
   "outputs": [],
   "source": [
    "from keras.models import load_model\n",
    "from keras.models import Sequential\n",
    "from keras.layers import Conv2D, MaxPool2D, Flatten, Dense, InputLayer, BatchNormalization, Dropout\n",
    "from keras.preprocessing.image import ImageDataGenerator\n",
    "from keras.applications import VGG16\n",
    "from keras.utils import to_categorical\n",
    "from keras.callbacks import EarlyStopping\n",
    "import numpy as np\n",
    "import pandas as pd\n",
    "import pickle"
   ]
  },
  {
   "cell_type": "code",
   "execution_count": 15,
   "metadata": {
    "colab": {},
    "colab_type": "code",
    "id": "5oHLGbpgSq8W"
   },
   "outputs": [],
   "source": [
    "# Get the api keys\n",
    "from credentials_google import google_apikey\n",
    "from zillowcreds_2 import zillow_apikey"
   ]
  },
  {
   "cell_type": "markdown",
   "metadata": {
    "colab_type": "text",
    "id": "1NDDBB_JSq8Z"
   },
   "source": [
    "### Functions"
   ]
  },
  {
   "cell_type": "code",
   "execution_count": 16,
   "metadata": {
    "colab": {},
    "colab_type": "code",
    "id": "x5vsiuoTSq8Z"
   },
   "outputs": [],
   "source": [
    "class ImageMetaData(object):\n",
    "    '''\n",
    "    Extract the metadata (exif data) from any image. \n",
    "    Returns GPS coordinates.\n",
    "    '''\n",
    "    \n",
    "    exif_data = None\n",
    "    image = None\n",
    "\n",
    "    def __init__(self, img_path):\n",
    "        self.image = Image.open(img_path)\n",
    "        self.get_exif_data()\n",
    "\n",
    "\n",
    "    def get_exif_data(self):\n",
    "        \"\"\"Returns a dictionary from the exif data of an PIL Image item. Also converts the GPS Tags\"\"\"\n",
    "        exif_data = {}\n",
    "        info = self.image._getexif()\n",
    "        if info:\n",
    "            for tag, value in info.items():\n",
    "                decoded = TAGS.get(tag, tag)\n",
    "                if decoded == \"GPSInfo\":\n",
    "                    gps_data = {}\n",
    "                    for t in value:\n",
    "                        sub_decoded = GPSTAGS.get(t, t)\n",
    "                        gps_data[sub_decoded] = value[t]\n",
    "\n",
    "                    exif_data[decoded] = gps_data\n",
    "                else:\n",
    "                    exif_data[decoded] = value\n",
    "        self.exif_data = exif_data\n",
    "        return exif_data\n",
    "\n",
    "    def get_if_exist(self, data, key):\n",
    "        if key in data:\n",
    "            return data[key]\n",
    "        return None\n",
    "\n",
    "    def convert_to_degress(self, value):\n",
    "\n",
    "        \"\"\"Helper function to convert the GPS coordinates \n",
    "        stored in the EXIF to degress in float format\"\"\"\n",
    "        d0 = value[0][0]\n",
    "        d1 = value[0][1]\n",
    "        d = float(d0) / float(d1)\n",
    "\n",
    "        m0 = value[1][0]\n",
    "        m1 = value[1][1]\n",
    "        m = float(m0) / float(m1)\n",
    "\n",
    "        s0 = value[2][0]\n",
    "        s1 = value[2][1]\n",
    "        s = float(s0) / float(s1)\n",
    "\n",
    "        return d + (m / 60.0) + (s / 3600.0)\n",
    "\n",
    "    def get_lat_lng(self):\n",
    "        \"\"\"Returns the latitude and longitude, if available, from the provided exif_data (obtained through get_exif_data above)\"\"\"\n",
    "        lat = None\n",
    "        lng = None\n",
    "        exif_data = self.get_exif_data()\n",
    "        #print(exif_data)\n",
    "        if \"GPSInfo\" in exif_data:      \n",
    "            gps_info = exif_data[\"GPSInfo\"]\n",
    "            gps_latitude = self.get_if_exist(gps_info, \"GPSLatitude\")\n",
    "            gps_latitude_ref = self.get_if_exist(gps_info, 'GPSLatitudeRef')\n",
    "            gps_longitude = self.get_if_exist(gps_info, 'GPSLongitude')\n",
    "            gps_longitude_ref = self.get_if_exist(gps_info, 'GPSLongitudeRef')\n",
    "            if gps_latitude and gps_latitude_ref and gps_longitude and gps_longitude_ref:\n",
    "                lat = self.convert_to_degress(gps_latitude)\n",
    "                if gps_latitude_ref != \"N\":                     \n",
    "                    lat = 0 - lat\n",
    "                lng = self.convert_to_degress(gps_longitude)\n",
    "                if gps_longitude_ref != \"E\":\n",
    "                    lng = 0 - lng\n",
    "                    \n",
    "        return lat, lng"
   ]
  },
  {
   "cell_type": "code",
   "execution_count": 17,
   "metadata": {
    "colab": {},
    "colab_type": "code",
    "id": "qL5AX_hCSq8b"
   },
   "outputs": [],
   "source": [
    "def reverse_lookup(lat, long, key=google_apikey):\n",
    "    \"\"\"Function to lookup addresses from latitude, longitude details using Google Maps API\n",
    "    Args:\n",
    "        lat (float): latitude as float\n",
    "        long (float): longitude as float\n",
    "        key (str): (default='YOURAPIKEYHERE') google maps api key\n",
    "    Returns:\n",
    "        returns a tuple with address (str), zipcode (str)\n",
    "        \"\"\"\n",
    "    \n",
    "    result = str(Geocoder(api_key=key).reverse_geocode(lat, long))\n",
    "    location_details = result.split(\",\")\n",
    "    address = location_details[0]\n",
    "    zipcode = location_details[-2].strip().split(' ')[1]\n",
    "    city = location_details[1]\n",
    "    state = location_details[2].split(\" \")[1]\n",
    "    \n",
    "    return address, zipcode, city, state"
   ]
  },
  {
   "cell_type": "code",
   "execution_count": 18,
   "metadata": {
    "colab": {},
    "colab_type": "code",
    "id": "NQI4dy4sSq8e"
   },
   "outputs": [],
   "source": [
    "def get_zillow_estimate(key, address, zipcode):\n",
    "    '''\n",
    "    function to fetch estimated price of a house from its street address\n",
    "    Args:\n",
    "        key (str): zillow api key\n",
    "        address (str): house street address\n",
    "        zipcode (str): house zipcode\n",
    "    Returns:\n",
    "        amount (float): estimated house price from zillow\n",
    "    '''\n",
    "    \n",
    "    zillow_data = ZillowWrapper(key)\n",
    "    deep_search_response = zillow_data.get_deep_search_results(address, zipcode)\n",
    "    result = GetDeepSearchResults(deep_search_response)\n",
    "    zestimate=0\n",
    "    try:\n",
    "        zestimate = float(result.zestimate_amount)\n",
    "        \n",
    "    except:\n",
    "        pass\n",
    "    \n",
    "    if zestimate:\n",
    "        amount = zestimate\n",
    "        \n",
    "    else:\n",
    "        amount = 0.0\n",
    "    \n",
    "    return amount"
   ]
  },
  {
   "cell_type": "code",
   "execution_count": 19,
   "metadata": {
    "colab": {},
    "colab_type": "code",
    "id": "fL2Uc4_LSq8g"
   },
   "outputs": [],
   "source": [
    "# Define parameters for street view api\n",
    "\n",
    "def google_streetviewer(location, key='YOURAPIKEY', heading=0, pitch=0):\n",
    "    '''\n",
    "    function to fetch google street view image from given address\n",
    "    this image will serve as the reference 'before' image if house is damaged\n",
    "    Args:\n",
    "        location (str): address of the house\n",
    "        key (str): google api key\n",
    "        heading (int): vert angle of streetview image\n",
    "        pitch (int): horz angle of streetview image\n",
    "    Returns:\n",
    "        image file : google streetview image of the given address \n",
    "    '''\n",
    "    \n",
    "    params = [{'size': '600x300', # max 640x640 pixels\n",
    "               'location': location,\n",
    "               'heading': heading,# might require adjusting\n",
    "               'pitch': pitch, # might require adjusting\n",
    "               'key': key\n",
    "              }]\n",
    "\n",
    "    # Create a results object\n",
    "    results = google_streetview.api.results(params)\n",
    "\n",
    "    # Download images to directory 'google-pics'\n",
    "    return results.download_links('google-pics')"
   ]
  },
  {
   "cell_type": "code",
   "execution_count": 20,
   "metadata": {
    "colab": {},
    "colab_type": "code",
    "id": "sTFzNuqkSq8j"
   },
   "outputs": [],
   "source": [
    "# check if user has image to upload\n",
    "def user_input():\n",
    "    \"\"\"\n",
    "    function that takes image from user to get estimated house price\n",
    "    Returns:\n",
    "        estimate (float): estimated house price\n",
    "    \"\"\"\n",
    "    path_name = None\n",
    "    check = input(\"Do you have an image of the front of your house to upload (y/n)? \")\n",
    "\n",
    "    if check == 'y':\n",
    "        path_name = input('\\nEnter house image path on your computer, either from your home directory or from your current directory: ')\n",
    "        # fetch location info from image\n",
    "        meta_data =  ImageMetaData(path_name)\n",
    "        latlng = meta_data.get_lat_lng()\n",
    "        \n",
    "        # if image contains location data\n",
    "        if all(latlng):\n",
    "            \n",
    "            # fetch address from lat long\n",
    "            addr = reverse_lookup(latlng[0], latlng[1], google_apikey)\n",
    "            print('\\n' + str(addr))\n",
    "\n",
    "            # check if returned address is correct \n",
    "            response = input('\\nIs this your address (y/n)? ')\n",
    "            if response == 'n':\n",
    "                # input address if returned address was incorrect\n",
    "                print(('\\nEnter your street address followed by a comma \",\" and then your zip code.'))\n",
    "                new_addr = input('example: 100 Main St, 07110\\n')\n",
    "                new_addr = new_addr.split(',')\n",
    "            else:\n",
    "                new_addr = addr\n",
    "\n",
    "            # fetch estimated amount from zillow\n",
    "            estimate = get_zillow_estimate(zillow_apikey, new_addr, new_addr[1])\n",
    "            print('\\nThe original estimate from Zillow for your home\\s value is: ${:,.2f}'.format(estimate))\n",
    "            \n",
    "            #get streetview image\n",
    "            cond = input('\\nDo you want a street view image of your house (y/n)? ')\n",
    "            if cond == 'y':\n",
    "                google_streetviewer(new_addr,google_apikey)\n",
    "\n",
    "            return estimate, path_name\n",
    "        \n",
    "        # if image does not contain location data\n",
    "        else:\n",
    "            print('\\nThis image does not have any location data.')\n",
    "            print(('\\nEnter your street address followed by a comma \",\" and then your zip code.'))\n",
    "            new_addr = input('example: 100 Main St, 07110 \\n')\n",
    "            new_addr = new_addr.split(',')\n",
    "\n",
    "            # fetch estimated amount from zillow\n",
    "            estimate = get_zillow_estimate(zillow_apikey, new_addr, new_addr[1])\n",
    "            print('\\nThe original house value estimate from Zillow is: ${:,.2f}'.format(estimate))\n",
    "        \n",
    "            # get streetview image\n",
    "            cond = input('\\nDo you want a streetview image of your house (y/n)? ')\n",
    "            if cond == 'y':\n",
    "                google_streetviewer(new_addr,google_apikey)\n",
    "        \n",
    "            return estimate,path_name\n",
    "\n",
    "    # if user has no image to upload:        \n",
    "    else:\n",
    "        print(('\\nEnter your street address followed by a comma \",\" and then your zip code.'))\n",
    "        new_addr = input('example: 100 Main St, 07110 \\n')\n",
    "        new_addr = new_addr.split(',')\n",
    "\n",
    "        # fetch estimated amount from zillow\n",
    "        estimate = get_zillow_estimate(zillow_apikey, new_addr, new_addr[1])\n",
    "        print('\\nThe original house estimate from Zillow is: ${:,.2f}'.format(estimate))\n",
    "        \n",
    "        # get streetview image\n",
    "        cond = input('\\nDo you want a streetview image of your house (y/n)? ')\n",
    "        if cond == 'y':\n",
    "            google_streetviewer(new_addr,google_apikey)\n",
    "        \n",
    "        return estimate,path_name\n"
   ]
  },
  {
   "cell_type": "markdown",
   "metadata": {},
   "source": [
    "### Model Loading"
   ]
  },
  {
   "cell_type": "code",
   "execution_count": 21,
   "metadata": {
    "scrolled": true
   },
   "outputs": [],
   "source": [
    "model3 = Sequential()\n",
    "model3.add(InputLayer(input_shape=(256, 256, 3)))\n",
    "\n",
    "model3.add(Conv2D(25, (5, 5), activation='relu', strides=(1, 1), padding='same')) # add batch size and ES\n",
    "model3.add(MaxPool2D(pool_size=(2, 2), padding='same'))\n",
    "model3.add(Conv2D(50, (5, 5), activation='relu', strides=(2, 2), padding='same'))\n",
    "model3.add(MaxPool2D(pool_size=(2, 2), padding='same'))\n",
    "model3.add(BatchNormalization())\n",
    "model3.add(Conv2D(70, (3, 3), activation='relu', strides=(2, 2), padding='same'))\n",
    "model3.add(MaxPool2D(pool_size=(2, 2), padding='valid'))\n",
    "model3.add(BatchNormalization())\n",
    "model3.add(Flatten())\n",
    "model3.add(Dense(units=100, activation='relu'))\n",
    "model3.add(Dropout(0.25))\n",
    "model3.add(Dense(units=100, activation='relu'))\n",
    "model3.add(Dropout(0.25))\n",
    "model3.add(Dense(units=3, activation='softmax'))\n",
    "\n",
    "model3.compile(loss='categorical_crossentropy', optimizer=\"adam\", metrics=['accuracy'])\n",
    "\n",
    "model3.load_weights(\"./model/final_model.h5\")"
   ]
  },
  {
   "cell_type": "code",
   "execution_count": 22,
   "metadata": {},
   "outputs": [],
   "source": [
    "def load_obj(name):\n",
    "    with open('model/' + name + '.pkl', 'rb') as f:\n",
    "        return pickle.load(f)\n",
    "    \n",
    "train_class_indices = load_obj(\"train_class_indices\")"
   ]
  },
  {
   "cell_type": "markdown",
   "metadata": {
    "colab_type": "text",
    "id": "iUkHz1q2Sq8n"
   },
   "source": [
    "### Main"
   ]
  },
  {
   "cell_type": "code",
   "execution_count": 24,
   "metadata": {
    "colab": {},
    "colab_type": "code",
    "id": "j6R9OQGWSq8n",
    "outputId": "7ef641d0-13c9-45e3-952a-1f35ad1827e7"
   },
   "outputs": [
    {
     "name": "stdout",
     "output_type": "stream",
     "text": [
      "Do you have an image of the front of your house to upload (y/n)? n\n",
      "\n",
      "Enter your street address followed by a comma \",\" and then your zip code.\n",
      "example: 100 Main St, 07110 \n",
      "11810 Silent Valley Ln, 20878\n",
      "\n",
      "The original house estimate from Zillow is: $612,098.0\n",
      "\n",
      "\n",
      "Do you want a streetview image of your house (y/n)? y\n"
     ]
    }
   ],
   "source": [
    "(estimate, path_name) = user_input()"
   ]
  },
  {
   "cell_type": "code",
   "execution_count": 29,
   "metadata": {
    "colab": {},
    "colab_type": "code",
    "id": "YZeIIUaESq8t"
   },
   "outputs": [
    {
     "name": "stdout",
     "output_type": "stream",
     "text": [
      "\n",
      "Enter the condition of your house (Good, Damaged, Destroyed): Damaged\n",
      "\n",
      "The damage estimate is $306,049.00\n"
     ]
    }
   ],
   "source": [
    "# estimate the damage from model\n",
    "\n",
    "# if user uploads photo:\n",
    "if path_name:\n",
    "    # run model with this image to get classification\n",
    "    # ...\n",
    "    direc = os.path.dirname(os.path.dirname(path_name))\n",
    "    \n",
    "    imagegen = ImageDataGenerator()\n",
    "    test = imagegen.flow_from_directory(direc, class_mode=None, shuffle=False, batch_size=1, target_size=(256, 256))\n",
    "    test.reset()\n",
    "    pred = model3.predict_generator(test, verbose=0)\n",
    "    \n",
    "    predicted_class_indices=np.argmax(pred,axis=1)\n",
    "    \n",
    "    labels = (train_class_indices)\n",
    "    labels = dict((v,k) for k,v in labels.items())\n",
    "    predictions = [labels[k] for k in predicted_class_indices]\n",
    "            \n",
    "    if predictions[0] == 'Good':\n",
    "        model_estimate = 0\n",
    "    elif predictions[0] == 'Damaged':\n",
    "        model_estimate = 0.5\n",
    "    else:\n",
    "        model_estimate = 1\n",
    "    \n",
    "    damage_estimate = estimate*model_estimate\n",
    "    print('\\nThe original value of your house was ${:,.2f}. The model estimates that your house is {}, and the estimated damage is ${:,.2f}'.format(estimate, predictions[0].lower(), damage_estimate))\n",
    "    \n",
    "# if user does not upload photo:\n",
    "else:\n",
    "    condition = input('\\nEnter the condition of your house (Good, Damaged, Destroyed): ')\n",
    "    \n",
    "    if condition == 'Good':\n",
    "        damage_estimate = 0\n",
    "    elif condition == 'Damaged':\n",
    "        damage_estimate = 0.5*estimate\n",
    "    else:\n",
    "        damage_estimate = estimate\n",
    "        \n",
    "    print('\\nThe damage estimate is ${:,.2f}'.format(damage_estimate))"
   ]
  },
  {
   "cell_type": "code",
   "execution_count": null,
   "metadata": {
    "colab": {},
    "colab_type": "code",
    "id": "lG16sTMuSq81"
   },
   "outputs": [],
   "source": []
  }
 ],
 "metadata": {
  "colab": {
   "name": "apis_final.ipynb",
   "provenance": []
  },
  "kernelspec": {
   "display_name": "Python 3",
   "language": "python",
   "name": "python3"
  },
  "language_info": {
   "codemirror_mode": {
    "name": "ipython",
    "version": 3
   },
   "file_extension": ".py",
   "mimetype": "text/x-python",
   "name": "python",
   "nbconvert_exporter": "python",
   "pygments_lexer": "ipython3",
   "version": "3.7.6"
  }
 },
 "nbformat": 4,
 "nbformat_minor": 1
}
